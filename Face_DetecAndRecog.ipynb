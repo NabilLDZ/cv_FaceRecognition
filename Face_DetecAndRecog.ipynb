{
  "cells": [
    {
      "cell_type": "code",
      "execution_count": null,
      "metadata": {
        "id": "fTj-9pSu2D-F"
      },
      "outputs": [],
      "source": [
        "# Import Library\n",
        "import os\n",
        "from os import listdir\n",
        "from PIL import Image as Img\n",
        "from numpy import asarray\n",
        "from numpy import expand_dims\n",
        "from matplotlib import pyplot\n",
        "import zipfile\n",
        "from keras.models import load_model\n",
        "import numpy as np\n",
        "import tensorflow as tf\n",
        "import pickle\n",
        "import cv2"
      ]
    },
    {
      "cell_type": "code",
      "execution_count": null,
      "metadata": {
        "colab": {
          "base_uri": "https://localhost:8080/"
        },
        "id": "XpkIebOXVK1i",
        "outputId": "2375ebe8-1b9e-4a8f-9788-ad20f4e05f00"
      },
      "outputs": [
        {
          "output_type": "stream",
          "name": "stdout",
          "text": [
            "Mounted at /content/drive\n"
          ]
        }
      ],
      "source": [
        "# Connect To Google Drive\n",
        "from google.colab import drive\n",
        "\n",
        "drive.mount('/content/drive')"
      ]
    },
    {
      "cell_type": "markdown",
      "metadata": {
        "id": "rpH5dWam2vJi"
      },
      "source": [
        "#Face Detec"
      ]
    },
    {
      "cell_type": "code",
      "execution_count": null,
      "metadata": {
        "colab": {
          "base_uri": "https://localhost:8080/"
        },
        "id": "vpT_UHs2Q7he",
        "outputId": "2126443f-e71c-4f5f-8130-b25509004977"
      },
      "outputs": [
        {
          "name": "stdout",
          "output_type": "stream",
          "text": [
            "Looking in indexes: https://pypi.org/simple, https://us-python.pkg.dev/colab-wheels/public/simple/\n",
            "Collecting ultralytics\n",
            "  Downloading ultralytics-8.0.113-py3-none-any.whl (593 kB)\n",
            "\u001b[2K     \u001b[90m━━━━━━━━━━━━━━━━━━━━━━━━━━━━━━━━━━━━━━\u001b[0m \u001b[32m593.5/593.5 kB\u001b[0m \u001b[31m11.0 MB/s\u001b[0m eta \u001b[36m0:00:00\u001b[0m\n",
            "\u001b[?25hRequirement already satisfied: matplotlib>=3.2.2 in /usr/local/lib/python3.10/dist-packages (from ultralytics) (3.7.1)\n",
            "Requirement already satisfied: opencv-python>=4.6.0 in /usr/local/lib/python3.10/dist-packages (from ultralytics) (4.7.0.72)\n",
            "Requirement already satisfied: Pillow>=7.1.2 in /usr/local/lib/python3.10/dist-packages (from ultralytics) (8.4.0)\n",
            "Requirement already satisfied: PyYAML>=5.3.1 in /usr/local/lib/python3.10/dist-packages (from ultralytics) (6.0)\n",
            "Requirement already satisfied: requests>=2.23.0 in /usr/local/lib/python3.10/dist-packages (from ultralytics) (2.27.1)\n",
            "Requirement already satisfied: scipy>=1.4.1 in /usr/local/lib/python3.10/dist-packages (from ultralytics) (1.10.1)\n",
            "Requirement already satisfied: torch>=1.7.0 in /usr/local/lib/python3.10/dist-packages (from ultralytics) (2.0.1+cu118)\n",
            "Requirement already satisfied: torchvision>=0.8.1 in /usr/local/lib/python3.10/dist-packages (from ultralytics) (0.15.2+cu118)\n",
            "Requirement already satisfied: tqdm>=4.64.0 in /usr/local/lib/python3.10/dist-packages (from ultralytics) (4.65.0)\n",
            "Requirement already satisfied: pandas>=1.1.4 in /usr/local/lib/python3.10/dist-packages (from ultralytics) (1.5.3)\n",
            "Requirement already satisfied: seaborn>=0.11.0 in /usr/local/lib/python3.10/dist-packages (from ultralytics) (0.12.2)\n",
            "Requirement already satisfied: psutil in /usr/local/lib/python3.10/dist-packages (from ultralytics) (5.9.5)\n",
            "Requirement already satisfied: contourpy>=1.0.1 in /usr/local/lib/python3.10/dist-packages (from matplotlib>=3.2.2->ultralytics) (1.0.7)\n",
            "Requirement already satisfied: cycler>=0.10 in /usr/local/lib/python3.10/dist-packages (from matplotlib>=3.2.2->ultralytics) (0.11.0)\n",
            "Requirement already satisfied: fonttools>=4.22.0 in /usr/local/lib/python3.10/dist-packages (from matplotlib>=3.2.2->ultralytics) (4.39.3)\n",
            "Requirement already satisfied: kiwisolver>=1.0.1 in /usr/local/lib/python3.10/dist-packages (from matplotlib>=3.2.2->ultralytics) (1.4.4)\n",
            "Requirement already satisfied: numpy>=1.20 in /usr/local/lib/python3.10/dist-packages (from matplotlib>=3.2.2->ultralytics) (1.22.4)\n",
            "Requirement already satisfied: packaging>=20.0 in /usr/local/lib/python3.10/dist-packages (from matplotlib>=3.2.2->ultralytics) (23.1)\n",
            "Requirement already satisfied: pyparsing>=2.3.1 in /usr/local/lib/python3.10/dist-packages (from matplotlib>=3.2.2->ultralytics) (3.0.9)\n",
            "Requirement already satisfied: python-dateutil>=2.7 in /usr/local/lib/python3.10/dist-packages (from matplotlib>=3.2.2->ultralytics) (2.8.2)\n",
            "Requirement already satisfied: pytz>=2020.1 in /usr/local/lib/python3.10/dist-packages (from pandas>=1.1.4->ultralytics) (2022.7.1)\n",
            "Requirement already satisfied: urllib3<1.27,>=1.21.1 in /usr/local/lib/python3.10/dist-packages (from requests>=2.23.0->ultralytics) (1.26.15)\n",
            "Requirement already satisfied: certifi>=2017.4.17 in /usr/local/lib/python3.10/dist-packages (from requests>=2.23.0->ultralytics) (2022.12.7)\n",
            "Requirement already satisfied: charset-normalizer~=2.0.0 in /usr/local/lib/python3.10/dist-packages (from requests>=2.23.0->ultralytics) (2.0.12)\n",
            "Requirement already satisfied: idna<4,>=2.5 in /usr/local/lib/python3.10/dist-packages (from requests>=2.23.0->ultralytics) (3.4)\n",
            "Requirement already satisfied: filelock in /usr/local/lib/python3.10/dist-packages (from torch>=1.7.0->ultralytics) (3.12.0)\n",
            "Requirement already satisfied: typing-extensions in /usr/local/lib/python3.10/dist-packages (from torch>=1.7.0->ultralytics) (4.5.0)\n",
            "Requirement already satisfied: sympy in /usr/local/lib/python3.10/dist-packages (from torch>=1.7.0->ultralytics) (1.11.1)\n",
            "Requirement already satisfied: networkx in /usr/local/lib/python3.10/dist-packages (from torch>=1.7.0->ultralytics) (3.1)\n",
            "Requirement already satisfied: jinja2 in /usr/local/lib/python3.10/dist-packages (from torch>=1.7.0->ultralytics) (3.1.2)\n",
            "Requirement already satisfied: triton==2.0.0 in /usr/local/lib/python3.10/dist-packages (from torch>=1.7.0->ultralytics) (2.0.0)\n",
            "Requirement already satisfied: cmake in /usr/local/lib/python3.10/dist-packages (from triton==2.0.0->torch>=1.7.0->ultralytics) (3.25.2)\n",
            "Requirement already satisfied: lit in /usr/local/lib/python3.10/dist-packages (from triton==2.0.0->torch>=1.7.0->ultralytics) (16.0.5)\n",
            "Requirement already satisfied: six>=1.5 in /usr/local/lib/python3.10/dist-packages (from python-dateutil>=2.7->matplotlib>=3.2.2->ultralytics) (1.16.0)\n",
            "Requirement already satisfied: MarkupSafe>=2.0 in /usr/local/lib/python3.10/dist-packages (from jinja2->torch>=1.7.0->ultralytics) (2.1.2)\n",
            "Requirement already satisfied: mpmath>=0.19 in /usr/local/lib/python3.10/dist-packages (from sympy->torch>=1.7.0->ultralytics) (1.3.0)\n",
            "Installing collected packages: ultralytics\n",
            "Successfully installed ultralytics-8.0.113\n"
          ]
        }
      ],
      "source": [
        "# Install YoloV8\n",
        "!pip install ultralytics\n",
        "from ultralytics import YOLO"
      ]
    },
    {
      "cell_type": "code",
      "execution_count": null,
      "metadata": {
        "colab": {
          "base_uri": "https://localhost:8080/"
        },
        "id": "J5KZjDs4RC1R",
        "outputId": "7caa6107-741c-47b0-f44d-a0a931aad4f6"
      },
      "outputs": [
        {
          "name": "stderr",
          "output_type": "stream",
          "text": [
            "Ultralytics YOLOv8.0.113 🚀 Python-3.10.11 torch-2.0.1+cu118 CUDA:0 (Tesla T4, 15102MiB)\n",
            "Setup complete ✅ (2 CPUs, 12.7 GB RAM, 23.3/78.2 GB disk)\n"
          ]
        }
      ],
      "source": [
        "# Check Yolo Version\n",
        "from IPython import display\n",
        "display.clear_output()\n",
        "import ultralytics\n",
        "ultralytics.checks()"
      ]
    },
    {
      "cell_type": "code",
      "execution_count": null,
      "metadata": {
        "colab": {
          "base_uri": "https://localhost:8080/"
        },
        "id": "rUI2FuJGEIeT",
        "outputId": "963bdbc0-1d4a-447e-a6d4-5b4356c98ab3"
      },
      "outputs": [
        {
          "name": "stdout",
          "output_type": "stream",
          "text": [
            "Archive:  /content/drive/MyDrive/UTS_DL_T3/Dataset/dataset.zip\n",
            " extracting: /content/drive/MyDrive/UTS_DL_T3/Dataset/dataset/classes.txt  \n",
            "  inflating: /content/drive/MyDrive/UTS_DL_T3/Dataset/dataset/data.yaml  \n",
            "   creating: /content/drive/MyDrive/UTS_DL_T3/Dataset/dataset/train/\n",
            "   creating: /content/drive/MyDrive/UTS_DL_T3/Dataset/dataset/train/images/\n",
            "  inflating: /content/drive/MyDrive/UTS_DL_T3/Dataset/dataset/train/images/Face (1).jpg  \n",
            "  inflating: /content/drive/MyDrive/UTS_DL_T3/Dataset/dataset/train/images/Face (10).jpg  \n",
            "  inflating: /content/drive/MyDrive/UTS_DL_T3/Dataset/dataset/train/images/Face (2).jpg  \n",
            "  inflating: /content/drive/MyDrive/UTS_DL_T3/Dataset/dataset/train/images/Face (3).jpg  \n",
            "  inflating: /content/drive/MyDrive/UTS_DL_T3/Dataset/dataset/train/images/Face (4).jpg  \n",
            "  inflating: /content/drive/MyDrive/UTS_DL_T3/Dataset/dataset/train/images/Face (5).jpg  \n",
            "  inflating: /content/drive/MyDrive/UTS_DL_T3/Dataset/dataset/train/images/Face (6).jpg  \n",
            "  inflating: /content/drive/MyDrive/UTS_DL_T3/Dataset/dataset/train/images/Face (7).jpg  \n",
            "  inflating: /content/drive/MyDrive/UTS_DL_T3/Dataset/dataset/train/images/Face (8).jpg  \n",
            "  inflating: /content/drive/MyDrive/UTS_DL_T3/Dataset/dataset/train/images/Face (9).jpg  \n",
            "   creating: /content/drive/MyDrive/UTS_DL_T3/Dataset/dataset/train/labels/\n",
            " extracting: /content/drive/MyDrive/UTS_DL_T3/Dataset/dataset/train/labels/classes.txt  \n",
            "  inflating: /content/drive/MyDrive/UTS_DL_T3/Dataset/dataset/train/labels/Face (1).txt  \n",
            "  inflating: /content/drive/MyDrive/UTS_DL_T3/Dataset/dataset/train/labels/Face (10).txt  \n",
            "  inflating: /content/drive/MyDrive/UTS_DL_T3/Dataset/dataset/train/labels/Face (2).txt  \n",
            "  inflating: /content/drive/MyDrive/UTS_DL_T3/Dataset/dataset/train/labels/Face (3).txt  \n",
            "  inflating: /content/drive/MyDrive/UTS_DL_T3/Dataset/dataset/train/labels/Face (4).txt  \n",
            "  inflating: /content/drive/MyDrive/UTS_DL_T3/Dataset/dataset/train/labels/Face (5).txt  \n",
            "  inflating: /content/drive/MyDrive/UTS_DL_T3/Dataset/dataset/train/labels/Face (6).txt  \n",
            "  inflating: /content/drive/MyDrive/UTS_DL_T3/Dataset/dataset/train/labels/Face (7).txt  \n",
            "  inflating: /content/drive/MyDrive/UTS_DL_T3/Dataset/dataset/train/labels/Face (8).txt  \n",
            "  inflating: /content/drive/MyDrive/UTS_DL_T3/Dataset/dataset/train/labels/Face (9).txt  \n",
            "   creating: /content/drive/MyDrive/UTS_DL_T3/Dataset/dataset/valid/\n",
            " extracting: /content/drive/MyDrive/UTS_DL_T3/Dataset/dataset/valid/classes.txt  \n",
            "   creating: /content/drive/MyDrive/UTS_DL_T3/Dataset/dataset/valid/images/\n",
            "  inflating: /content/drive/MyDrive/UTS_DL_T3/Dataset/dataset/valid/images/Arfan Hidayat.jpg  \n",
            "  inflating: /content/drive/MyDrive/UTS_DL_T3/Dataset/dataset/valid/images/Dede Jamilah.jpg  \n",
            "  inflating: /content/drive/MyDrive/UTS_DL_T3/Dataset/dataset/valid/images/Maureen Camilatuzhara.jpg  \n",
            "  inflating: /content/drive/MyDrive/UTS_DL_T3/Dataset/dataset/valid/images/Muhammad Armando.jpg  \n",
            "  inflating: /content/drive/MyDrive/UTS_DL_T3/Dataset/dataset/valid/images/Muhammad Armando.txt  \n",
            "  inflating: /content/drive/MyDrive/UTS_DL_T3/Dataset/dataset/valid/images/Nabil Laudzhan.jpg  \n",
            "   creating: /content/drive/MyDrive/UTS_DL_T3/Dataset/dataset/valid/labels/\n",
            "  inflating: /content/drive/MyDrive/UTS_DL_T3/Dataset/dataset/valid/labels/Arfan Hidayat.txt  \n",
            "  inflating: /content/drive/MyDrive/UTS_DL_T3/Dataset/dataset/valid/labels/Dede Jamilah.txt  \n",
            "  inflating: /content/drive/MyDrive/UTS_DL_T3/Dataset/dataset/valid/labels/Maureen Camilatuzhara.txt  \n",
            "  inflating: /content/drive/MyDrive/UTS_DL_T3/Dataset/dataset/valid/labels/Muhammad Armando.txt  \n",
            "  inflating: /content/drive/MyDrive/UTS_DL_T3/Dataset/dataset/valid/labels/Nabil Laudzhan.txt  \n"
          ]
        }
      ],
      "source": [
        "# Extract Dataset\n",
        "!unzip '/content/drive/MyDrive/UTS_DL_T3/Dataset/dataset.zip' -d '/content/drive/MyDrive/UTS_DL_T3/Dataset/'"
      ]
    },
    {
      "cell_type": "code",
      "execution_count": null,
      "metadata": {
        "colab": {
          "base_uri": "https://localhost:8080/"
        },
        "id": "kZO-35R2agr5",
        "outputId": "e26f9b75-2dcd-44f6-930c-0d66f7e1501d"
      },
      "outputs": [
        {
          "name": "stdout",
          "output_type": "stream",
          "text": [
            "/content/drive/MyDrive/UTS_DL_T3/Weight\n"
          ]
        }
      ],
      "source": [
        "# Change Directory\n",
        "%cd /content/drive/MyDrive/UTS_DL_T3/Weight"
      ]
    },
    {
      "cell_type": "code",
      "execution_count": null,
      "metadata": {
        "colab": {
          "base_uri": "https://localhost:8080/"
        },
        "id": "4cPN2BuoRWjL",
        "outputId": "22802bdd-5867-45ce-ade0-4a269e6e75cf"
      },
      "outputs": [
        {
          "name": "stdout",
          "output_type": "stream",
          "text": [
            "Downloading https://github.com/ultralytics/assets/releases/download/v0.0.0/yolov8s.pt to yolov8s.pt...\n",
            "100% 21.5M/21.5M [00:00<00:00, 134MB/s] \n",
            "Ultralytics YOLOv8.0.113 🚀 Python-3.10.11 torch-2.0.1+cu118 CUDA:0 (Tesla T4, 15102MiB)\n",
            "\u001b[34m\u001b[1myolo/engine/trainer: \u001b[0mtask=detect, mode=train, model=yolov8s.pt, data=/content/drive/MyDrive/UTS_DL_T3/Dataset/dataset/data.yaml, epochs=50, patience=50, batch=16, imgsz=640, save=True, save_period=-1, cache=False, device=None, workers=8, project=None, name=None, exist_ok=False, pretrained=False, optimizer=SGD, verbose=True, seed=0, deterministic=True, single_cls=False, rect=False, cos_lr=False, close_mosaic=0, resume=False, amp=True, fraction=1.0, profile=False, overlap_mask=True, mask_ratio=4, dropout=0.0, val=True, split=val, save_json=False, save_hybrid=False, conf=None, iou=0.7, max_det=300, half=False, dnn=False, plots=True, source=None, show=False, save_txt=False, save_conf=False, save_crop=False, show_labels=True, show_conf=True, vid_stride=1, line_width=None, visualize=False, augment=False, agnostic_nms=False, classes=None, retina_masks=False, boxes=True, format=torchscript, keras=False, optimize=False, int8=False, dynamic=False, simplify=False, opset=None, workspace=4, nms=False, lr0=0.01, lrf=0.01, momentum=0.937, weight_decay=0.0005, warmup_epochs=3.0, warmup_momentum=0.8, warmup_bias_lr=0.1, box=7.5, cls=0.5, dfl=1.5, pose=12.0, kobj=1.0, label_smoothing=0.0, nbs=64, hsv_h=0.015, hsv_s=0.7, hsv_v=0.4, degrees=0.0, translate=0.1, scale=0.5, shear=0.0, perspective=0.0, flipud=0.0, fliplr=0.5, mosaic=1.0, mixup=0.0, copy_paste=0.0, cfg=None, v5loader=False, tracker=botsort.yaml, save_dir=runs/detect/train\n",
            "Downloading https://ultralytics.com/assets/Arial.ttf to /root/.config/Ultralytics/Arial.ttf...\n",
            "100% 755k/755k [00:00<00:00, 17.2MB/s]\n",
            "Overriding model.yaml nc=80 with nc=1\n",
            "\n",
            "                   from  n    params  module                                       arguments                     \n",
            "  0                  -1  1       928  ultralytics.nn.modules.conv.Conv             [3, 32, 3, 2]                 \n",
            "  1                  -1  1     18560  ultralytics.nn.modules.conv.Conv             [32, 64, 3, 2]                \n",
            "  2                  -1  1     29056  ultralytics.nn.modules.block.C2f             [64, 64, 1, True]             \n",
            "  3                  -1  1     73984  ultralytics.nn.modules.conv.Conv             [64, 128, 3, 2]               \n",
            "  4                  -1  2    197632  ultralytics.nn.modules.block.C2f             [128, 128, 2, True]           \n",
            "  5                  -1  1    295424  ultralytics.nn.modules.conv.Conv             [128, 256, 3, 2]              \n",
            "  6                  -1  2    788480  ultralytics.nn.modules.block.C2f             [256, 256, 2, True]           \n",
            "  7                  -1  1   1180672  ultralytics.nn.modules.conv.Conv             [256, 512, 3, 2]              \n",
            "  8                  -1  1   1838080  ultralytics.nn.modules.block.C2f             [512, 512, 1, True]           \n",
            "  9                  -1  1    656896  ultralytics.nn.modules.block.SPPF            [512, 512, 5]                 \n",
            " 10                  -1  1         0  torch.nn.modules.upsampling.Upsample         [None, 2, 'nearest']          \n",
            " 11             [-1, 6]  1         0  ultralytics.nn.modules.conv.Concat           [1]                           \n",
            " 12                  -1  1    591360  ultralytics.nn.modules.block.C2f             [768, 256, 1]                 \n",
            " 13                  -1  1         0  torch.nn.modules.upsampling.Upsample         [None, 2, 'nearest']          \n",
            " 14             [-1, 4]  1         0  ultralytics.nn.modules.conv.Concat           [1]                           \n",
            " 15                  -1  1    148224  ultralytics.nn.modules.block.C2f             [384, 128, 1]                 \n",
            " 16                  -1  1    147712  ultralytics.nn.modules.conv.Conv             [128, 128, 3, 2]              \n",
            " 17            [-1, 12]  1         0  ultralytics.nn.modules.conv.Concat           [1]                           \n",
            " 18                  -1  1    493056  ultralytics.nn.modules.block.C2f             [384, 256, 1]                 \n",
            " 19                  -1  1    590336  ultralytics.nn.modules.conv.Conv             [256, 256, 3, 2]              \n",
            " 20             [-1, 9]  1         0  ultralytics.nn.modules.conv.Concat           [1]                           \n",
            " 21                  -1  1   1969152  ultralytics.nn.modules.block.C2f             [768, 512, 1]                 \n",
            " 22        [15, 18, 21]  1   2116435  ultralytics.nn.modules.head.Detect           [1, [128, 256, 512]]          \n",
            "Model summary: 225 layers, 11135987 parameters, 11135971 gradients\n",
            "\n",
            "Transferred 349/355 items from pretrained weights\n",
            "\u001b[34m\u001b[1mTensorBoard: \u001b[0mStart with 'tensorboard --logdir runs/detect/train', view at http://localhost:6006/\n",
            "\u001b[34m\u001b[1mAMP: \u001b[0mrunning Automatic Mixed Precision (AMP) checks with YOLOv8n...\n",
            "Downloading https://github.com/ultralytics/assets/releases/download/v0.0.0/yolov8n.pt to yolov8n.pt...\n",
            "100% 6.23M/6.23M [00:00<00:00, 71.1MB/s]\n",
            "\u001b[34m\u001b[1mAMP: \u001b[0mchecks passed ✅\n",
            "\u001b[34m\u001b[1mtrain: \u001b[0mScanning /content/drive/MyDrive/UTS_DL_T3/Dataset/dataset/train/labels... 10 images, 0 backgrounds, 0 corrupt: 100% 10/10 [00:00<00:00, 190.13it/s]\n",
            "\u001b[34m\u001b[1mtrain: \u001b[0mNew cache created: /content/drive/MyDrive/UTS_DL_T3/Dataset/dataset/train/labels.cache\n",
            "\u001b[34m\u001b[1malbumentations: \u001b[0mBlur(p=0.01, blur_limit=(3, 7)), MedianBlur(p=0.01, blur_limit=(3, 7)), ToGray(p=0.01), CLAHE(p=0.01, clip_limit=(1, 4.0), tile_grid_size=(8, 8))\n",
            "\u001b[34m\u001b[1mval: \u001b[0mScanning /content/drive/MyDrive/UTS_DL_T3/Dataset/dataset/valid/labels... 5 images, 0 backgrounds, 0 corrupt: 100% 5/5 [00:00<00:00, 89.48it/s]\n",
            "\u001b[34m\u001b[1mval: \u001b[0mNew cache created: /content/drive/MyDrive/UTS_DL_T3/Dataset/dataset/valid/labels.cache\n",
            "Plotting labels to runs/detect/train/labels.jpg... \n",
            "\u001b[34m\u001b[1moptimizer:\u001b[0m SGD(lr=0.01, momentum=0.937) with parameter groups 57 weight(decay=0.0), 64 weight(decay=0.0005), 63 bias(decay=0.0)\n",
            "Image sizes 640 train, 640 val\n",
            "Using 2 dataloader workers\n",
            "Logging results to \u001b[1mruns/detect/train\u001b[0m\n",
            "Starting training for 50 epochs...\n",
            "\n",
            "      Epoch    GPU_mem   box_loss   cls_loss   dfl_loss  Instances       Size\n",
            "       1/50       2.6G      2.092      4.545      2.397         23        640: 100% 1/1 [00:01<00:00,  1.33s/it]\n",
            "/usr/local/lib/python3.10/dist-packages/torch/optim/lr_scheduler.py:139: UserWarning: Detected call of `lr_scheduler.step()` before `optimizer.step()`. In PyTorch 1.1.0 and later, you should call them in the opposite order: `optimizer.step()` before `lr_scheduler.step()`.  Failure to do this will result in PyTorch skipping the first value of the learning rate schedule. See more details at https://pytorch.org/docs/stable/optim.html#how-to-adjust-learning-rate\n",
            "  warnings.warn(\"Detected call of `lr_scheduler.step()` before `optimizer.step()`. \"\n",
            "                 Class     Images  Instances      Box(P          R      mAP50  mAP50-95): 100% 1/1 [00:01<00:00,  1.67s/it]\n",
            "                   all          5          5       0.08        0.2     0.0219    0.00835\n",
            "\n",
            "      Epoch    GPU_mem   box_loss   cls_loss   dfl_loss  Instances       Size\n",
            "       2/50      2.61G      1.849      4.357       2.02         22        640: 100% 1/1 [00:00<00:00,  4.76it/s]\n",
            "                 Class     Images  Instances      Box(P          R      mAP50  mAP50-95): 100% 1/1 [00:00<00:00,  4.83it/s]\n",
            "                   all          5          5     0.0832        0.2     0.0267     0.0103\n",
            "\n",
            "      Epoch    GPU_mem   box_loss   cls_loss   dfl_loss  Instances       Size\n",
            "       3/50       2.6G      2.134      7.049      2.607         14        640: 100% 1/1 [00:00<00:00,  3.47it/s]\n",
            "                 Class     Images  Instances      Box(P          R      mAP50  mAP50-95): 100% 1/1 [00:00<00:00,  4.14it/s]\n",
            "                   all          5          5     0.0844        0.2     0.0267     0.0102\n",
            "\n",
            "      Epoch    GPU_mem   box_loss   cls_loss   dfl_loss  Instances       Size\n",
            "       4/50      2.61G      2.175      4.974      2.533         23        640: 100% 1/1 [00:00<00:00,  3.30it/s]\n",
            "                 Class     Images  Instances      Box(P          R      mAP50  mAP50-95): 100% 1/1 [00:00<00:00,  6.68it/s]\n",
            "                   all          5          5     0.0788        0.2     0.0267     0.0103\n",
            "\n",
            "      Epoch    GPU_mem   box_loss   cls_loss   dfl_loss  Instances       Size\n",
            "       5/50      2.62G      1.847       4.17      2.048         20        640: 100% 1/1 [00:00<00:00,  3.49it/s]\n",
            "                 Class     Images  Instances      Box(P          R      mAP50  mAP50-95): 100% 1/1 [00:00<00:00,  6.31it/s]\n",
            "                   all          5          5     0.0837        0.2     0.0267     0.0103\n",
            "\n",
            "      Epoch    GPU_mem   box_loss   cls_loss   dfl_loss  Instances       Size\n",
            "       6/50      2.61G      2.261      5.125      2.401         22        640: 100% 1/1 [00:00<00:00,  6.20it/s]\n",
            "                 Class     Images  Instances      Box(P          R      mAP50  mAP50-95): 100% 1/1 [00:00<00:00,  8.12it/s]\n",
            "                   all          5          5     0.0785        0.2     0.0301     0.0117\n",
            "\n",
            "      Epoch    GPU_mem   box_loss   cls_loss   dfl_loss  Instances       Size\n",
            "       7/50      2.62G      1.701      4.728      2.095         17        640: 100% 1/1 [00:00<00:00,  6.17it/s]\n",
            "                 Class     Images  Instances      Box(P          R      mAP50  mAP50-95): 100% 1/1 [00:00<00:00, 14.78it/s]\n",
            "                   all          5          5      0.082        0.2     0.0302     0.0117\n",
            "\n",
            "      Epoch    GPU_mem   box_loss   cls_loss   dfl_loss  Instances       Size\n",
            "       8/50      2.63G      1.894      4.446      2.081         23        640: 100% 1/1 [00:00<00:00,  5.18it/s]\n",
            "                 Class     Images  Instances      Box(P          R      mAP50  mAP50-95): 100% 1/1 [00:00<00:00, 14.67it/s]\n",
            "                   all          5          5     0.0881        0.2     0.0348     0.0135\n",
            "\n",
            "      Epoch    GPU_mem   box_loss   cls_loss   dfl_loss  Instances       Size\n",
            "       9/50      2.66G       1.93      3.796      2.182         20        640: 100% 1/1 [00:00<00:00,  6.06it/s]\n",
            "                 Class     Images  Instances      Box(P          R      mAP50  mAP50-95): 100% 1/1 [00:00<00:00,  8.74it/s]\n",
            "                   all          5          5      0.106        0.2     0.0415     0.0162\n",
            "\n",
            "      Epoch    GPU_mem   box_loss   cls_loss   dfl_loss  Instances       Size\n",
            "      10/50      2.66G      1.938      3.746      2.261         23        640: 100% 1/1 [00:00<00:00,  6.07it/s]\n",
            "                 Class     Images  Instances      Box(P          R      mAP50  mAP50-95): 100% 1/1 [00:00<00:00, 13.18it/s]\n",
            "                   all          5          5      0.102        0.2     0.0315     0.0126\n",
            "\n",
            "      Epoch    GPU_mem   box_loss   cls_loss   dfl_loss  Instances       Size\n",
            "      11/50      2.66G      1.841      3.484      2.094         21        640: 100% 1/1 [00:00<00:00,  5.01it/s]\n",
            "                 Class     Images  Instances      Box(P          R      mAP50  mAP50-95): 100% 1/1 [00:00<00:00, 10.40it/s]\n",
            "                   all          5          5      0.105        0.2     0.0619     0.0215\n",
            "\n",
            "      Epoch    GPU_mem   box_loss   cls_loss   dfl_loss  Instances       Size\n",
            "      12/50      2.66G      1.322      2.797      1.762         21        640: 100% 1/1 [00:00<00:00,  3.84it/s]\n",
            "                 Class     Images  Instances      Box(P          R      mAP50  mAP50-95): 100% 1/1 [00:00<00:00,  5.86it/s]\n",
            "                   all          5          5     0.0946        0.4      0.156     0.0548\n",
            "\n",
            "      Epoch    GPU_mem   box_loss   cls_loss   dfl_loss  Instances       Size\n",
            "      13/50      2.66G      1.349      2.398       1.65         22        640: 100% 1/1 [00:00<00:00,  4.86it/s]\n",
            "                 Class     Images  Instances      Box(P          R      mAP50  mAP50-95): 100% 1/1 [00:00<00:00, 13.93it/s]\n",
            "                   all          5          5       0.26        0.4      0.207     0.0969\n",
            "\n",
            "      Epoch    GPU_mem   box_loss   cls_loss   dfl_loss  Instances       Size\n",
            "      14/50      2.66G      1.013      2.118      1.377         24        640: 100% 1/1 [00:00<00:00,  6.30it/s]\n",
            "                 Class     Images  Instances      Box(P          R      mAP50  mAP50-95): 100% 1/1 [00:00<00:00,  7.26it/s]\n",
            "                   all          5          5      0.721       0.53      0.619      0.427\n",
            "\n",
            "      Epoch    GPU_mem   box_loss   cls_loss   dfl_loss  Instances       Size\n",
            "      15/50      2.66G       1.08      1.697      1.426         23        640: 100% 1/1 [00:00<00:00,  5.98it/s]\n",
            "                 Class     Images  Instances      Box(P          R      mAP50  mAP50-95): 100% 1/1 [00:00<00:00,  9.71it/s]\n",
            "                   all          5          5      0.923        0.6      0.838      0.483\n",
            "\n",
            "      Epoch    GPU_mem   box_loss   cls_loss   dfl_loss  Instances       Size\n",
            "      16/50      2.66G      1.068      1.811      1.487         20        640: 100% 1/1 [00:00<00:00,  6.32it/s]\n",
            "                 Class     Images  Instances      Box(P          R      mAP50  mAP50-95): 100% 1/1 [00:00<00:00,  9.46it/s]\n",
            "                   all          5          5      0.955        0.6      0.845      0.566\n",
            "\n",
            "      Epoch    GPU_mem   box_loss   cls_loss   dfl_loss  Instances       Size\n",
            "      17/50      2.66G     0.7836      1.619      1.256         23        640: 100% 1/1 [00:00<00:00,  5.30it/s]\n",
            "                 Class     Images  Instances      Box(P          R      mAP50  mAP50-95): 100% 1/1 [00:00<00:00, 11.13it/s]\n",
            "                   all          5          5      0.703      0.953      0.881      0.706\n",
            "\n",
            "      Epoch    GPU_mem   box_loss   cls_loss   dfl_loss  Instances       Size\n",
            "      18/50      2.66G     0.5661      1.091     0.9817         29        640: 100% 1/1 [00:00<00:00,  6.59it/s]\n",
            "                 Class     Images  Instances      Box(P          R      mAP50  mAP50-95): 100% 1/1 [00:00<00:00,  6.28it/s]\n",
            "                   all          5          5      0.703      0.953      0.881      0.706\n",
            "\n",
            "      Epoch    GPU_mem   box_loss   cls_loss   dfl_loss  Instances       Size\n",
            "      19/50      2.67G     0.7509      1.293      1.252         24        640: 100% 1/1 [00:00<00:00,  3.73it/s]\n",
            "                 Class     Images  Instances      Box(P          R      mAP50  mAP50-95): 100% 1/1 [00:00<00:00,  5.37it/s]\n",
            "                   all          5          5      0.985          1      0.995      0.925\n",
            "\n",
            "      Epoch    GPU_mem   box_loss   cls_loss   dfl_loss  Instances       Size\n",
            "      20/50      2.65G     0.6571      1.275       1.14         17        640: 100% 1/1 [00:00<00:00,  6.08it/s]\n",
            "                 Class     Images  Instances      Box(P          R      mAP50  mAP50-95): 100% 1/1 [00:00<00:00, 12.31it/s]\n",
            "                   all          5          5      0.985          1      0.995      0.925\n",
            "\n",
            "      Epoch    GPU_mem   box_loss   cls_loss   dfl_loss  Instances       Size\n",
            "      21/50      2.67G     0.7943      1.373      1.127         25        640: 100% 1/1 [00:00<00:00,  5.36it/s]\n",
            "                 Class     Images  Instances      Box(P          R      mAP50  mAP50-95): 100% 1/1 [00:00<00:00, 11.78it/s]\n",
            "                   all          5          5          1          1      0.995      0.925\n",
            "\n",
            "      Epoch    GPU_mem   box_loss   cls_loss   dfl_loss  Instances       Size\n",
            "      22/50      2.66G     0.5744     0.9602      1.042         21        640: 100% 1/1 [00:00<00:00,  7.19it/s]\n",
            "                 Class     Images  Instances      Box(P          R      mAP50  mAP50-95): 100% 1/1 [00:00<00:00, 12.23it/s]\n",
            "                   all          5          5          1          1      0.995      0.925\n",
            "\n",
            "      Epoch    GPU_mem   box_loss   cls_loss   dfl_loss  Instances       Size\n",
            "      23/50      2.67G     0.6724     0.9674      1.114         27        640: 100% 1/1 [00:00<00:00,  6.14it/s]\n",
            "                 Class     Images  Instances      Box(P          R      mAP50  mAP50-95): 100% 1/1 [00:00<00:00, 11.52it/s]\n",
            "                   all          5          5          1      0.997      0.995      0.895\n",
            "\n",
            "      Epoch    GPU_mem   box_loss   cls_loss   dfl_loss  Instances       Size\n",
            "      24/50      2.66G     0.7252      0.819      1.203         23        640: 100% 1/1 [00:00<00:00,  7.30it/s]\n",
            "                 Class     Images  Instances      Box(P          R      mAP50  mAP50-95): 100% 1/1 [00:00<00:00,  7.38it/s]\n",
            "                   all          5          5          1      0.997      0.995      0.895\n",
            "\n",
            "      Epoch    GPU_mem   box_loss   cls_loss   dfl_loss  Instances       Size\n",
            "      25/50      2.67G     0.5338     0.7845      1.069         19        640: 100% 1/1 [00:00<00:00,  5.27it/s]\n",
            "                 Class     Images  Instances      Box(P          R      mAP50  mAP50-95): 100% 1/1 [00:00<00:00, 13.03it/s]\n",
            "                   all          5          5      0.987          1      0.995      0.864\n",
            "\n",
            "      Epoch    GPU_mem   box_loss   cls_loss   dfl_loss  Instances       Size\n",
            "      26/50      2.66G     0.6205     0.9543      1.039         21        640: 100% 1/1 [00:00<00:00,  6.67it/s]\n",
            "                 Class     Images  Instances      Box(P          R      mAP50  mAP50-95): 100% 1/1 [00:00<00:00,  6.32it/s]\n",
            "                   all          5          5      0.987          1      0.995      0.864\n",
            "\n",
            "      Epoch    GPU_mem   box_loss   cls_loss   dfl_loss  Instances       Size\n",
            "      27/50      2.67G     0.5663     0.7957      1.003         23        640: 100% 1/1 [00:00<00:00,  3.19it/s]\n",
            "                 Class     Images  Instances      Box(P          R      mAP50  mAP50-95): 100% 1/1 [00:00<00:00,  7.15it/s]\n",
            "                   all          5          5      0.991          1      0.995       0.95\n",
            "\n",
            "      Epoch    GPU_mem   box_loss   cls_loss   dfl_loss  Instances       Size\n",
            "      28/50      2.67G     0.6334     0.7137       1.02         25        640: 100% 1/1 [00:00<00:00,  5.12it/s]\n",
            "                 Class     Images  Instances      Box(P          R      mAP50  mAP50-95): 100% 1/1 [00:00<00:00, 10.30it/s]\n",
            "                   all          5          5      0.991          1      0.995       0.95\n",
            "\n",
            "      Epoch    GPU_mem   box_loss   cls_loss   dfl_loss  Instances       Size\n",
            "      29/50      2.67G     0.5629     0.6614      1.003         25        640: 100% 1/1 [00:00<00:00,  6.15it/s]\n",
            "                 Class     Images  Instances      Box(P          R      mAP50  mAP50-95): 100% 1/1 [00:00<00:00, 14.19it/s]\n",
            "                   all          5          5      0.991          1      0.995      0.925\n",
            "\n",
            "      Epoch    GPU_mem   box_loss   cls_loss   dfl_loss  Instances       Size\n",
            "      30/50      2.66G     0.5678     0.6665      1.045         24        640: 100% 1/1 [00:00<00:00,  7.71it/s]\n",
            "                 Class     Images  Instances      Box(P          R      mAP50  mAP50-95): 100% 1/1 [00:00<00:00,  7.17it/s]\n",
            "                   all          5          5      0.991          1      0.995      0.925\n",
            "\n",
            "      Epoch    GPU_mem   box_loss   cls_loss   dfl_loss  Instances       Size\n",
            "      31/50      2.67G     0.5665     0.6539      1.054         22        640: 100% 1/1 [00:00<00:00,  6.19it/s]\n",
            "                 Class     Images  Instances      Box(P          R      mAP50  mAP50-95): 100% 1/1 [00:00<00:00, 11.22it/s]\n",
            "                   all          5          5      0.991          1      0.995      0.922\n",
            "\n",
            "      Epoch    GPU_mem   box_loss   cls_loss   dfl_loss  Instances       Size\n",
            "      32/50      2.66G     0.4874     0.5025     0.9278         28        640: 100% 1/1 [00:00<00:00,  7.14it/s]\n",
            "                 Class     Images  Instances      Box(P          R      mAP50  mAP50-95): 100% 1/1 [00:00<00:00,  8.12it/s]\n",
            "                   all          5          5      0.991          1      0.995      0.922\n",
            "\n",
            "      Epoch    GPU_mem   box_loss   cls_loss   dfl_loss  Instances       Size\n",
            "      33/50      2.67G      0.642     0.5437      1.039         22        640: 100% 1/1 [00:00<00:00,  5.74it/s]\n",
            "                 Class     Images  Instances      Box(P          R      mAP50  mAP50-95): 100% 1/1 [00:00<00:00, 12.21it/s]\n",
            "                   all          5          5      0.991          1      0.995      0.922\n",
            "\n",
            "      Epoch    GPU_mem   box_loss   cls_loss   dfl_loss  Instances       Size\n",
            "      34/50      2.67G     0.5453     0.5782      1.009         23        640: 100% 1/1 [00:00<00:00,  6.03it/s]\n",
            "                 Class     Images  Instances      Box(P          R      mAP50  mAP50-95): 100% 1/1 [00:00<00:00,  7.85it/s]\n",
            "                   all          5          5      0.991          1      0.995      0.922\n",
            "\n",
            "      Epoch    GPU_mem   box_loss   cls_loss   dfl_loss  Instances       Size\n",
            "      35/50      2.67G     0.4242     0.5027     0.9513         32        640: 100% 1/1 [00:00<00:00,  4.75it/s]\n",
            "                 Class     Images  Instances      Box(P          R      mAP50  mAP50-95): 100% 1/1 [00:00<00:00, 14.26it/s]\n",
            "                   all          5          5       0.99          1      0.995      0.922\n",
            "\n",
            "      Epoch    GPU_mem   box_loss   cls_loss   dfl_loss  Instances       Size\n",
            "      36/50      2.66G     0.7226     0.6078      1.091         21        640: 100% 1/1 [00:00<00:00,  4.95it/s]\n",
            "                 Class     Images  Instances      Box(P          R      mAP50  mAP50-95): 100% 1/1 [00:00<00:00,  7.13it/s]\n",
            "                   all          5          5       0.99          1      0.995      0.922\n",
            "\n",
            "      Epoch    GPU_mem   box_loss   cls_loss   dfl_loss  Instances       Size\n",
            "      37/50      2.68G     0.4459     0.4971     0.9598         24        640: 100% 1/1 [00:00<00:00,  3.69it/s]\n",
            "                 Class     Images  Instances      Box(P          R      mAP50  mAP50-95): 100% 1/1 [00:00<00:00,  6.00it/s]\n",
            "                   all          5          5      0.991          1      0.995      0.928\n",
            "\n",
            "      Epoch    GPU_mem   box_loss   cls_loss   dfl_loss  Instances       Size\n",
            "      38/50      2.65G     0.3899     0.6706     0.9021         13        640: 100% 1/1 [00:00<00:00,  3.86it/s]\n",
            "                 Class     Images  Instances      Box(P          R      mAP50  mAP50-95): 100% 1/1 [00:00<00:00,  5.94it/s]\n",
            "                   all          5          5      0.991          1      0.995      0.928\n",
            "\n",
            "      Epoch    GPU_mem   box_loss   cls_loss   dfl_loss  Instances       Size\n",
            "      39/50      2.67G     0.5996     0.4588      1.057         26        640: 100% 1/1 [00:00<00:00,  6.29it/s]\n",
            "                 Class     Images  Instances      Box(P          R      mAP50  mAP50-95): 100% 1/1 [00:00<00:00, 12.52it/s]\n",
            "                   all          5          5      0.991          1      0.995      0.955\n",
            "\n",
            "      Epoch    GPU_mem   box_loss   cls_loss   dfl_loss  Instances       Size\n",
            "      40/50      2.66G     0.5124     0.5064      1.023         28        640: 100% 1/1 [00:00<00:00,  6.87it/s]\n",
            "                 Class     Images  Instances      Box(P          R      mAP50  mAP50-95): 100% 1/1 [00:00<00:00, 13.33it/s]\n",
            "                   all          5          5      0.991          1      0.995      0.955\n",
            "\n",
            "      Epoch    GPU_mem   box_loss   cls_loss   dfl_loss  Instances       Size\n",
            "      41/50      2.67G     0.5137     0.5151     0.9911         25        640: 100% 1/1 [00:00<00:00,  6.36it/s]\n",
            "                 Class     Images  Instances      Box(P          R      mAP50  mAP50-95): 100% 1/1 [00:00<00:00, 16.47it/s]\n",
            "                   all          5          5      0.991          1      0.995      0.971\n",
            "\n",
            "      Epoch    GPU_mem   box_loss   cls_loss   dfl_loss  Instances       Size\n",
            "      42/50      2.66G      0.507     0.5679      1.012         20        640: 100% 1/1 [00:00<00:00,  7.26it/s]\n",
            "                 Class     Images  Instances      Box(P          R      mAP50  mAP50-95): 100% 1/1 [00:00<00:00, 11.92it/s]\n",
            "                   all          5          5      0.991          1      0.995      0.971\n",
            "\n",
            "      Epoch    GPU_mem   box_loss   cls_loss   dfl_loss  Instances       Size\n",
            "      43/50      2.67G     0.4488     0.5358     0.9524         22        640: 100% 1/1 [00:00<00:00,  6.38it/s]\n",
            "                 Class     Images  Instances      Box(P          R      mAP50  mAP50-95): 100% 1/1 [00:00<00:00, 10.45it/s]\n",
            "                   all          5          5      0.992          1      0.995      0.935\n",
            "\n",
            "      Epoch    GPU_mem   box_loss   cls_loss   dfl_loss  Instances       Size\n",
            "      44/50      2.66G     0.7693     0.7552      1.234         21        640: 100% 1/1 [00:00<00:00,  7.05it/s]\n",
            "                 Class     Images  Instances      Box(P          R      mAP50  mAP50-95): 100% 1/1 [00:00<00:00,  8.41it/s]\n",
            "                   all          5          5      0.992          1      0.995      0.935\n",
            "\n",
            "      Epoch    GPU_mem   box_loss   cls_loss   dfl_loss  Instances       Size\n",
            "      45/50      2.67G     0.3645     0.3932     0.9271         18        640: 100% 1/1 [00:00<00:00,  5.99it/s]\n",
            "                 Class     Images  Instances      Box(P          R      mAP50  mAP50-95): 100% 1/1 [00:00<00:00, 10.82it/s]\n",
            "                   all          5          5      0.992          1      0.995      0.955\n",
            "\n",
            "      Epoch    GPU_mem   box_loss   cls_loss   dfl_loss  Instances       Size\n",
            "      46/50      2.66G     0.5795     0.4585     0.9882         25        640: 100% 1/1 [00:00<00:00,  5.40it/s]\n",
            "                 Class     Images  Instances      Box(P          R      mAP50  mAP50-95): 100% 1/1 [00:00<00:00,  6.44it/s]\n",
            "                   all          5          5      0.992          1      0.995      0.955\n",
            "\n",
            "      Epoch    GPU_mem   box_loss   cls_loss   dfl_loss  Instances       Size\n",
            "      47/50      2.67G     0.4436     0.3573     0.9357         29        640: 100% 1/1 [00:00<00:00,  3.34it/s]\n",
            "                 Class     Images  Instances      Box(P          R      mAP50  mAP50-95): 100% 1/1 [00:00<00:00,  4.46it/s]\n",
            "                   all          5          5      0.992          1      0.995      0.955\n",
            "\n",
            "      Epoch    GPU_mem   box_loss   cls_loss   dfl_loss  Instances       Size\n",
            "      48/50      2.66G     0.7169     0.5672      1.163         15        640: 100% 1/1 [00:00<00:00,  3.69it/s]\n",
            "                 Class     Images  Instances      Box(P          R      mAP50  mAP50-95): 100% 1/1 [00:00<00:00,  9.77it/s]\n",
            "                   all          5          5      0.992          1      0.995      0.955\n",
            "\n",
            "      Epoch    GPU_mem   box_loss   cls_loss   dfl_loss  Instances       Size\n",
            "      49/50      2.67G     0.7445     0.6363      1.208         17        640: 100% 1/1 [00:00<00:00,  5.40it/s]\n",
            "                 Class     Images  Instances      Box(P          R      mAP50  mAP50-95): 100% 1/1 [00:00<00:00, 13.99it/s]\n",
            "                   all          5          5      0.992          1      0.995      0.955\n",
            "\n",
            "      Epoch    GPU_mem   box_loss   cls_loss   dfl_loss  Instances       Size\n",
            "      50/50      2.65G     0.4723     0.4028      1.016         25        640: 100% 1/1 [00:00<00:00,  7.11it/s]\n",
            "                 Class     Images  Instances      Box(P          R      mAP50  mAP50-95): 100% 1/1 [00:00<00:00,  9.41it/s]\n",
            "                   all          5          5      0.992          1      0.995      0.955\n",
            "\n",
            "50 epochs completed in 0.024 hours.\n",
            "Optimizer stripped from runs/detect/train/weights/last.pt, 22.5MB\n",
            "Optimizer stripped from runs/detect/train/weights/best.pt, 22.5MB\n",
            "\n",
            "Validating runs/detect/train/weights/best.pt...\n",
            "Ultralytics YOLOv8.0.113 🚀 Python-3.10.11 torch-2.0.1+cu118 CUDA:0 (Tesla T4, 15102MiB)\n",
            "Model summary (fused): 168 layers, 11125971 parameters, 0 gradients\n",
            "                 Class     Images  Instances      Box(P          R      mAP50  mAP50-95): 100% 1/1 [00:00<00:00, 11.16it/s]\n",
            "                   all          5          5      0.991          1      0.995      0.971\n",
            "Speed: 0.3ms preprocess, 9.0ms inference, 0.0ms loss, 1.2ms postprocess per image\n",
            "Results saved to \u001b[1mruns/detect/train\u001b[0m\n"
          ]
        }
      ],
      "source": [
        "# Training the Model for Face Detection\n",
        "!yolo task=detect mode=train model=yolov8s.pt data=/content/drive/MyDrive/UTS_DL_T3/Dataset/dataset/data.yaml epochs=50 imgsz=640 plots=True"
      ]
    },
    {
      "cell_type": "markdown",
      "metadata": {
        "id": "f6TkVq8v22d-"
      },
      "source": [
        "#Face Recog"
      ]
    },
    {
      "cell_type": "code",
      "execution_count": null,
      "metadata": {
        "id": "fak-gq4N24nQ"
      },
      "outputs": [],
      "source": [
        "# Import HaarCascade\n",
        "HaarCascade = cv2.CascadeClassifier(cv2.samples.findFile(cv2.data.haarcascades + 'haarcascade_frontalface_default.xml'))"
      ]
    },
    {
      "cell_type": "code",
      "execution_count": null,
      "metadata": {
        "colab": {
          "base_uri": "https://localhost:8080/"
        },
        "id": "lylG4NPm3Gcy",
        "outputId": "d929f3e9-a7d5-4a53-f17a-533b20b6c715"
      },
      "outputs": [
        {
          "output_type": "stream",
          "name": "stdout",
          "text": [
            "Looking in indexes: https://pypi.org/simple, https://us-python.pkg.dev/colab-wheels/public/simple/\n",
            "Collecting keras-facenet\n",
            "  Downloading keras-facenet-0.3.2.tar.gz (10 kB)\n",
            "  Preparing metadata (setup.py) ... \u001b[?25l\u001b[?25hdone\n",
            "Collecting mtcnn (from keras-facenet)\n",
            "  Downloading mtcnn-0.1.1-py3-none-any.whl (2.3 MB)\n",
            "\u001b[2K     \u001b[90m━━━━━━━━━━━━━━━━━━━━━━━━━━━━━━━━━━━━━━━━\u001b[0m \u001b[32m2.3/2.3 MB\u001b[0m \u001b[31m15.4 MB/s\u001b[0m eta \u001b[36m0:00:00\u001b[0m\n",
            "\u001b[?25hRequirement already satisfied: keras>=2.0.0 in /usr/local/lib/python3.10/dist-packages (from mtcnn->keras-facenet) (2.12.0)\n",
            "Requirement already satisfied: opencv-python>=4.1.0 in /usr/local/lib/python3.10/dist-packages (from mtcnn->keras-facenet) (4.7.0.72)\n",
            "Requirement already satisfied: numpy>=1.21.2 in /usr/local/lib/python3.10/dist-packages (from opencv-python>=4.1.0->mtcnn->keras-facenet) (1.22.4)\n",
            "Building wheels for collected packages: keras-facenet\n",
            "  Building wheel for keras-facenet (setup.py) ... \u001b[?25l\u001b[?25hdone\n",
            "  Created wheel for keras-facenet: filename=keras_facenet-0.3.2-py3-none-any.whl size=10370 sha256=7a00dd2d522b1430f296c0362bc845a8fafe8f645304a7dde1b80b6531aa75d2\n",
            "  Stored in directory: /root/.cache/pip/wheels/1d/d8/a9/85cf04ea29321d2afcb82c0caaafdca9195385f9d68cbc7185\n",
            "Successfully built keras-facenet\n",
            "Installing collected packages: mtcnn, keras-facenet\n",
            "Successfully installed keras-facenet-0.3.2 mtcnn-0.1.1\n"
          ]
        }
      ],
      "source": [
        "# Import FaceNet\n",
        "!pip install keras-facenet\n",
        "from keras_facenet import FaceNet\n",
        "MyFaceNet = FaceNet()"
      ]
    },
    {
      "cell_type": "code",
      "execution_count": null,
      "metadata": {
        "id": "cVuUalUq3I9W"
      },
      "outputs": [],
      "source": [
        "# Set Directory\n",
        "folder = '/content/drive/MyDrive/UTS_DL_T3/Dataset/dataset/valid/images/'"
      ]
    },
    {
      "cell_type": "code",
      "execution_count": null,
      "metadata": {
        "colab": {
          "base_uri": "https://localhost:8080/"
        },
        "id": "JYS-_RUD3Kv6",
        "outputId": "aa7d9444-c284-4d2d-c92b-5eae923295c4"
      },
      "outputs": [
        {
          "output_type": "stream",
          "name": "stdout",
          "text": [
            "1/1 [==============================] - 10s 10s/step\n",
            "1/1 [==============================] - 0s 75ms/step\n",
            "1/1 [==============================] - 0s 28ms/step\n",
            "1/1 [==============================] - 0s 28ms/step\n",
            "1/1 [==============================] - 0s 28ms/step\n"
          ]
        }
      ],
      "source": [
        "# Training the Model for Face Recog\n",
        "database = {}\n",
        "\n",
        "for filename in listdir(folder):\n",
        "\n",
        "    path = folder + filename\n",
        "    gbr1 = cv2.imread(folder + filename)\n",
        "\n",
        "    wajah = HaarCascade.detectMultiScale(gbr1,1.1,4)\n",
        "\n",
        "    if len(wajah)>0:\n",
        "        x1, y1, width, height = wajah[0]\n",
        "    else:\n",
        "        x1, y1, width, height = 1, 1, 10, 10\n",
        "\n",
        "    x1, y1 = abs(x1), abs(y1)\n",
        "    x2, y2 = x1 + width, y1 + height\n",
        "\n",
        "    gbr = cv2.cvtColor(gbr1, cv2.COLOR_BGR2RGB)\n",
        "    gbr = Img.fromarray(gbr)\n",
        "    gbr_array = asarray(gbr)\n",
        "\n",
        "    face = gbr_array[y1:y2, x1:x2]\n",
        "\n",
        "    face = Img.fromarray(face)\n",
        "    face = face.resize((160,160))\n",
        "    face = asarray(face)\n",
        "\n",
        "    face = expand_dims(face, axis=0)\n",
        "    signature = MyFaceNet.embeddings(face)\n",
        "\n",
        "    database[os.path.splitext(filename)[0]]=signature"
      ]
    },
    {
      "cell_type": "code",
      "execution_count": null,
      "metadata": {
        "colab": {
          "base_uri": "https://localhost:8080/"
        },
        "id": "LRWRJhxfgJhr",
        "outputId": "aad7e44a-829d-4d38-fad0-b63e95df8af5"
      },
      "outputs": [
        {
          "output_type": "stream",
          "name": "stdout",
          "text": [
            "/content/drive/MyDrive/UTS_DL_T3/Weight\n"
          ]
        }
      ],
      "source": [
        "# Change Directory\n",
        "%cd /content/drive/MyDrive/UTS_DL_T3/Weight/"
      ]
    },
    {
      "cell_type": "code",
      "execution_count": null,
      "metadata": {
        "id": "B9JOMHkj3Oji"
      },
      "outputs": [],
      "source": [
        "# Save File Model for Face Recog\n",
        "myfile = open(\"data.pkl\", \"wb\")\n",
        "pickle.dump(database, myfile)\n",
        "myfile.close()"
      ]
    }
  ],
  "metadata": {
    "accelerator": "GPU",
    "colab": {
      "provenance": []
    },
    "kernelspec": {
      "display_name": "Python 3",
      "name": "python3"
    },
    "language_info": {
      "name": "python"
    }
  },
  "nbformat": 4,
  "nbformat_minor": 0
}